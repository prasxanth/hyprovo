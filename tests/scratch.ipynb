{
 "cells": [
  {
   "cell_type": "markdown",
   "id": "5bfcd4a5",
   "metadata": {
    "hideCode": true,
    "hidePrompt": true
   },
   "source": [
    "# `hyprovo` Tests"
   ]
  },
  {
   "cell_type": "markdown",
   "id": "de926850",
   "metadata": {
    "heading_collapsed": true,
    "hideCode": true,
    "hidePrompt": true
   },
   "source": [
    "## Imports"
   ]
  },
  {
   "cell_type": "code",
   "execution_count": 1,
   "id": "39e23c60-2863-4b1f-8bcd-92f2f04e3386",
   "metadata": {},
   "outputs": [
    {
     "data": {
      "text/plain": [
       "<function eval_file at 0x7f99000d8950>"
      ]
     },
     "execution_count": 1,
     "metadata": {},
     "output_type": "execute_result"
    }
   ],
   "source": [
    "(defmacro eval-file [^(of str) filename]\n",
    "  \"Function to evaluate Hy expressions in `filename`. Returns count of expressions\n",
    "   evaluated. \"\n",
    "  `(with [f (open ~filename)]\n",
    "     (setv expr-count 0)\n",
    "     (try (while True\n",
    "            (setv expr (read f))\n",
    "            (setv expr-count (inc expr-count))\n",
    "            (eval expr))\n",
    "          (except [e EOFError]\n",
    "            (print expr-count)))))"
   ]
  },
  {
   "cell_type": "code",
   "execution_count": 2,
   "id": "6cd903d5",
   "metadata": {
    "ExecuteTime": {
     "end_time": "2021-11-06T23:59:34.913495Z",
     "start_time": "2021-11-06T23:59:34.063770Z"
    },
    "hidden": true,
    "hideCode": true,
    "hidePrompt": true,
    "tags": []
   },
   "outputs": [],
   "source": [
    "(require [hyprovo.framework [setup-test-env \n",
    "                                 teardown-test-env \n",
    "                                 report-result\n",
    "                                 check\n",
    "                                 report-combined-results\n",
    "                                 deffixture\n",
    "                                 with-fixture\n",
    "                                 with-fixtures\n",
    "                                 deftest\n",
    "                                 defsuite]])\n",
    "\n",
    "(import [hyprovo.framework [combine-results run-tests ▶]])\n",
    "\n",
    "(import [hyprovo.logger [null-logger \n",
    "                             console-logger\n",
    "                             file-logger \n",
    "                             console-and-file-logger]])\n",
    "\n",
    "(require [hy.extra.anaphoric [*]])\n",
    "\n",
    "(import os)\n",
    "(setv make-path (. os path join))"
   ]
  },
  {
   "cell_type": "markdown",
   "id": "4b332f3b-ad90-4070-b861-b023c2035966",
   "metadata": {},
   "source": [
    "## Global Variables"
   ]
  },
  {
   "cell_type": "code",
   "execution_count": 3,
   "id": "91cad34e-816e-40e9-a7fd-9c00e4c19559",
   "metadata": {},
   "outputs": [],
   "source": [
    "(setv *test-plan* [])"
   ]
  },
  {
   "cell_type": "code",
   "execution_count": 4,
   "id": "e7be986d-e48a-4be7-a69d-1d42595b6acf",
   "metadata": {},
   "outputs": [],
   "source": [
    "(import [datetime [datetime]])"
   ]
  },
  {
   "cell_type": "code",
   "execution_count": 5,
   "id": "0d3a8ef3-619e-487a-bf3a-f2148dd07bd5",
   "metadata": {},
   "outputs": [
    {
     "name": "stdout",
     "output_type": "stream",
     "text": [
      "File does not exist\n"
     ]
    }
   ],
   "source": [
    "(defn now-str []\n",
    "      \"Return current timestamp as string upto precision of seconds.\"\n",
    "      (.strftime (.now datetime) \"%Y%m%d%H%M%S\"))\n",
    "\n",
    ";; (now-str)\n",
    "(setv *hyprovo-logger* (console-and-file-logger :log-file (make-path \"logs\" (+ (now-str) \".log\"))))"
   ]
  },
  {
   "cell_type": "markdown",
   "id": "375c3978",
   "metadata": {
    "hideCode": true,
    "hidePrompt": true
   },
   "source": [
    "## Macro and Function Definitions"
   ]
  },
  {
   "cell_type": "code",
   "execution_count": 7,
   "id": "7b9c17ee",
   "metadata": {
    "ExecuteTime": {
     "end_time": "2021-11-06T23:59:34.951237Z",
     "start_time": "2021-11-06T23:59:34.921153Z"
    },
    "hideCode": true,
    "hidePrompt": true
   },
   "outputs": [
    {
     "data": {
      "text/plain": [
       "<function log_actual_result at 0x7f98f296e0d0>"
      ]
     },
     "execution_count": 7,
     "metadata": {},
     "output_type": "execute_result"
    }
   ],
   "source": [
    "(defmacro log-actual-result [test-name &rest body]\n",
    "  `(defn ~test-name [&optional [test-logger console-logger]]\n",
    "     (setup-test-env)\n",
    "     (setv *test-logger* test-logger)\n",
    "     (setv results None)\n",
    "     ~@body\n",
    "     (return results)))"
   ]
  },
  {
   "cell_type": "code",
   "execution_count": 8,
   "id": "5841881e",
   "metadata": {
    "ExecuteTime": {
     "end_time": "2021-11-06T23:59:34.969571Z",
     "start_time": "2021-11-06T23:59:34.954012Z"
    },
    "hideCode": true,
    "hidePrompt": true
   },
   "outputs": [],
   "source": [
    "(defn contains-timestamp? [^(of str) line]\n",
    "    (-> (map #%(in %1 line) [\"INFO\" \"ERROR\" \"DEBUG\"]) (any)))\n",
    "\n",
    "(defn read-log [^(of str) log-file &optional ^(of bool) [strip-timestamps True]]\n",
    "    (with [file (open log-file)]\n",
    "          (setv result% (.readlines file)))\n",
    "      \n",
    "    (setv logs [])\n",
    "    (for [r% result%]\n",
    "        (if (and strip-timestamps (contains-timestamp? r%))             \n",
    "            (.append logs (cut r% 26))\n",
    "            (.append logs r%)))\n",
    "      \n",
    "    (return logs))"
   ]
  },
  {
   "cell_type": "code",
   "execution_count": 9,
   "id": "16591027",
   "metadata": {
    "ExecuteTime": {
     "end_time": "2021-11-06T23:59:34.974011Z",
     "start_time": "2021-11-06T23:59:34.971495Z"
    },
    "hideCode": true,
    "hidePrompt": true
   },
   "outputs": [],
   "source": [
    "; (read-log \"tests/actual-report-result-pass.txt\")"
   ]
  },
  {
   "cell_type": "code",
   "execution_count": 10,
   "id": "1cbcb3c0",
   "metadata": {
    "ExecuteTime": {
     "end_time": "2021-11-06T23:59:35.020169Z",
     "start_time": "2021-11-06T23:59:34.976673Z"
    },
    "hideCode": true,
    "hidePrompt": true
   },
   "outputs": [
    {
     "data": {
      "text/plain": [
       "<function report at 0x7f98f29866a8>"
      ]
     },
     "execution_count": 10,
     "metadata": {},
     "output_type": "execute_result"
    }
   ],
   "source": [
    "(defmacro! report [label description expr]\n",
    "    `(do\n",
    "      (if ~expr\n",
    "          (do \n",
    "           (setv ~g!report% (, 1 1 0)) ; total, pass, fail\n",
    "           (->> (.format \"✓ Pass: {} - {}\" ~label ~description) (.debug *hyprovo-logger*)))\n",
    "          (do\n",
    "           (setv ~g!report% (, 1 0 1)) ; total, pass, fail\n",
    "           (->> (.format \"✗ Fail: {} - {}\" ~label ~description) (.error *hyprovo-logger*))))\n",
    "      ~g!report%))"
   ]
  },
  {
   "cell_type": "code",
   "execution_count": 11,
   "id": "4d92c1b8",
   "metadata": {
    "ExecuteTime": {
     "end_time": "2021-11-06T23:59:35.144825Z",
     "start_time": "2021-11-06T23:59:35.078526Z"
    },
    "hideCode": true,
    "hidePrompt": true
   },
   "outputs": [
    {
     "data": {
      "text/plain": [
       "<function validate_logs at 0x7f98f2986950>"
      ]
     },
     "execution_count": 11,
     "metadata": {},
     "output_type": "execute_result"
    }
   ],
   "source": [
    "(defmacro! validate-logs [label description]\n",
    "    `(do\n",
    "      (setv ~g!actual% (make-path \"results\" \"actual\" (.format \"{}.txt\" ~label))\n",
    "            ~g!expected% (make-path \"results\" \"expected\" (.format \"{}.txt\" ~label))\n",
    "            ~g!test% (= (read-log ~g!actual%) (read-log ~g!expected%)))\n",
    "      (report ~label ~description ~g!test%)))"
   ]
  },
  {
   "cell_type": "code",
   "execution_count": 12,
   "id": "2417bb60-7170-46de-a796-784ac1da0570",
   "metadata": {},
   "outputs": [],
   "source": [
    "(defn sum-results [results]\n",
    "    (as-> (zip #* results) it\n",
    "          (map sum it)\n",
    "          (tuple it)))"
   ]
  },
  {
   "cell_type": "code",
   "execution_count": 13,
   "id": "a55ba3f9-9c9d-4d2f-9c78-90cfee861571",
   "metadata": {},
   "outputs": [],
   "source": [
    "(defn compare-log-and-return-value [label actual expected description]\n",
    "  (setv log-file% (make-path \"results\" \"actual\" (.format \"{}.txt\" label)))\n",
    "  \n",
    "  ;; compare log output\n",
    "  (setv actual% (actual :test-logger (file-logger :log-file log-file%)))\n",
    "  (setv result-log% (validate-logs label description))\n",
    "\n",
    "  ;; compare return value\n",
    "  (setv results% (= expected actual%))\n",
    "  (setv result-return% (report label \"Return value\" results%))\n",
    "\n",
    "  ;; combine results\n",
    "  (sum-results (, result-log% result-return%)))"
   ]
  },
  {
   "cell_type": "code",
   "execution_count": 14,
   "id": "67259de9-55f9-431c-8004-d6ede8cdfe71",
   "metadata": {},
   "outputs": [
    {
     "data": {
      "text/plain": [
       "<function hyx_generate_test_caseXsolidusXresultXequals_signX at 0x7f98f292ad08>"
      ]
     },
     "execution_count": 14,
     "metadata": {},
     "output_type": "execute_result"
    }
   ],
   "source": [
    "(defmacro generate-test-case/result= [label actual expected description]\n",
    "   `(fn []\n",
    "          (log-actual-result test% (setv results ~actual))          \n",
    "          (compare-log-and-return-value ~label test% ~expected ~description)))"
   ]
  },
  {
   "cell_type": "code",
   "execution_count": 15,
   "id": "7c9daa10-04f3-4ceb-bc7a-1cf1d73e8308",
   "metadata": {},
   "outputs": [
    {
     "data": {
      "text/plain": [
       "<function hyx_add_to_test_planXsolidusXresultXequals_signX at 0x7f98f292ae18>"
      ]
     },
     "execution_count": 15,
     "metadata": {},
     "output_type": "execute_result"
    }
   ],
   "source": [
    "(defmacro add-to-test-plan/result= [label actual expected description]\n",
    "          `(.append *test-plan* (generate-test-case/result= ~label ~actual ~expected ~description)))"
   ]
  },
  {
   "cell_type": "markdown",
   "id": "2e25eace",
   "metadata": {
    "hideCode": true,
    "hidePrompt": true
   },
   "source": [
    "## `report-results`"
   ]
  },
  {
   "cell_type": "code",
   "execution_count": 16,
   "id": "f225b42d-0277-44bc-a97f-4b4b930bdcc2",
   "metadata": {},
   "outputs": [],
   "source": [
    "(add-to-test-plan/result= \"report-result-pass\" \n",
    "                          (report-result = (+ 1 2) 3 \"Passing result\") \n",
    "                          True \n",
    "                          \"Passing output format\")"
   ]
  },
  {
   "cell_type": "code",
   "execution_count": 17,
   "id": "70f12d90-a723-4db3-8365-39a137753f35",
   "metadata": {},
   "outputs": [],
   "source": [
    "(add-to-test-plan/result= \"report-result-fail\"\n",
    "                          (report-result = (+ 1 2) 5 \"Failing result\")\n",
    "                          False\n",
    "                          \"Failing output format\")"
   ]
  },
  {
   "cell_type": "markdown",
   "id": "04e0dc39",
   "metadata": {
    "hideCode": true,
    "hidePrompt": true
   },
   "source": [
    "## `check`"
   ]
  },
  {
   "cell_type": "code",
   "execution_count": 18,
   "id": "3f5b9eff",
   "metadata": {
    "ExecuteTime": {
     "end_time": "2021-11-06T23:59:35.332647Z",
     "start_time": "2021-11-06T23:59:35.314900Z"
    },
    "hideCode": true,
    "hidePrompt": true
   },
   "outputs": [],
   "source": [
    "(setv test-case-check '(check\n",
    "                          (= (+ 1 2) 3 \"add pass\")\n",
    "                          (= (- 2 3) 4 \"sub fail\")\n",
    "                          (= (/ 10 2) 3 \"div fail\")))"
   ]
  },
  {
   "cell_type": "code",
   "execution_count": 19,
   "id": "961205ad-bac4-43d8-a040-19f26f3f73e3",
   "metadata": {},
   "outputs": [],
   "source": [
    "(add-to-test-plan/result= \"check\" \n",
    "                          (eval test-case-check)\n",
    "                          (, 3 1 2)\n",
    "                          \"Multiple passing and failing statements\")"
   ]
  },
  {
   "cell_type": "markdown",
   "id": "ebfc7ebd",
   "metadata": {
    "hideCode": true,
    "hidePrompt": true
   },
   "source": [
    "## Combining Results"
   ]
  },
  {
   "cell_type": "markdown",
   "id": "283abdd5",
   "metadata": {
    "heading_collapsed": true,
    "hideCode": true,
    "hidePrompt": true
   },
   "source": [
    "### `combine-results`"
   ]
  },
  {
   "cell_type": "code",
   "execution_count": 20,
   "id": "221b32dc",
   "metadata": {
    "ExecuteTime": {
     "end_time": "2021-11-06T23:59:35.611527Z",
     "start_time": "2021-11-06T23:59:35.573244Z"
    },
    "hidden": true,
    "hideCode": true,
    "hidePrompt": true
   },
   "outputs": [],
   "source": [
    "(setv test-case-combine-results '(combine-results\n",
    "                     (check\n",
    "                      (= (+ 1 2) 3 \"add pass\")\n",
    "                      (= (- 2 3) 4 \"sub fail\")\n",
    "                      (= (* 7 2) 14 \"mul pass\"))\n",
    "                     (check\n",
    "                      (= (/ 4 2) 2 \"div pass\")\n",
    "                      (= (+ 2 3) -6 \"add fail\")\n",
    "                      (= (* 10 2) 3 \"mul fail\"))))"
   ]
  },
  {
   "cell_type": "code",
   "execution_count": 21,
   "id": "43e82aea-1327-4a9a-a5e4-e14610e12c4f",
   "metadata": {},
   "outputs": [],
   "source": [
    "(add-to-test-plan/result= \"combine-results\" \n",
    "                          (eval test-case-combine-results)\n",
    "                          (, 6 3 3)\n",
    "                          \"Combine results across multiple `check` statements.\")"
   ]
  },
  {
   "cell_type": "markdown",
   "id": "c373b426",
   "metadata": {
    "heading_collapsed": true,
    "hideCode": true,
    "hidePrompt": true
   },
   "source": [
    "### `report-combined-results`"
   ]
  },
  {
   "cell_type": "code",
   "execution_count": 22,
   "id": "91c42cef-54d2-4a6f-b681-10e59a0d5778",
   "metadata": {},
   "outputs": [],
   "source": [
    "(add-to-test-plan/result= \"report-combined-results\"\n",
    "                          (-> (eval test-case-combine-results) (report-combined-results))\n",
    "                          (, 6 3 3)\n",
    "                          \"Combine and report results across multiple `check` statements\")"
   ]
  },
  {
   "cell_type": "markdown",
   "id": "d95c0299",
   "metadata": {
    "hideCode": true,
    "hidePrompt": true
   },
   "source": [
    "## Test Definitions"
   ]
  },
  {
   "cell_type": "code",
   "execution_count": 23,
   "id": "b7aa9931",
   "metadata": {
    "ExecuteTime": {
     "end_time": "2021-11-07T20:53:17.166224Z",
     "start_time": "2021-11-07T20:53:13.369033Z"
    },
    "hideCode": true,
    "hidePrompt": true
   },
   "outputs": [
    {
     "data": {
      "text/plain": [
       "<function test_arithmetic_variable_local_defs at 0x7f98f2971ea0>"
      ]
     },
     "execution_count": 23,
     "metadata": {},
     "output_type": "execute_result"
    }
   ],
   "source": [
    "(deftest test-add-report-combined-results\n",
    "  (-> (check\n",
    "    (= (+ 1 2) 3 \"add pass\")\n",
    "    (= (+ 2 3) 4 \"add fail\"))\n",
    "      (combine-results)\n",
    "      (report-combined-results)))\n",
    "\n",
    " (deftest test-add\n",
    "  (check\n",
    "    (= (+ 1 2) 3 \"add pass\")\n",
    "    (= (+ 2 3) 4 \"add fail\")))\n",
    "\n",
    " (deftest test-add-variable\n",
    "  (check\n",
    "    (= (+ a b) 2 \"add pass\")\n",
    "    (= (+ a b) 3 \"add fail\")))\n",
    " \n",
    " (deftest test-add-variable-local-defs\n",
    "  (setv a 5 b 10)\n",
    "  (check\n",
    "    (= (+ a b) 15 \"add pass\")\n",
    "    (= (+ a b) 3 \"add fail\")))\n",
    " \n",
    " (deftest test-add-variable-partial-local-defs\n",
    "  (setv c 1)\n",
    "  (check\n",
    "    (= (+ a b c) 3 \"add pass\")\n",
    "    (= (+ a b c) 3 \"add fail\")))\n",
    "\n",
    " (deftest test-sub\n",
    "  (check\n",
    "    (= (- 2 2) 0 \"sub pass\")\n",
    "    (= (- 2 3) 4 \"sub fail\")))\n",
    "\n",
    " (deftest test-sub-variable\n",
    "  (check\n",
    "    (= (- a a) 0 \"sub pass\")\n",
    "    (= (- a b) 4 \"sub fail\")))\n",
    " \n",
    "(deftest test-sub-variable-local-defs\n",
    "  (setv a 8 b 10)\n",
    "  (check\n",
    "    (= (- a b) -2 \"sub pass\")\n",
    "    (= (- a b) 7 \"sub fail\")))\n",
    " \n",
    " (deftest test-sub-variable-partial-local-defs\n",
    "  (setv c 3)\n",
    "  (check\n",
    "    (= (- a b c) -3 \"add pass\")\n",
    "    (= (- a b c) -19 \"add fail\")))\n",
    "\n",
    "(deftest test-mul\n",
    " (check\n",
    "   (= (* 1 2) 2 \"mul pass\")\n",
    "   (= (* 2 3) 4 \"mul fail\")))\n",
    "\n",
    "(deftest test-mul-variable\n",
    " (check\n",
    "   (= (* a b) 1 \"mul pass\")\n",
    "   (= (* a b) 4 \"mul fail\")))\n",
    "\n",
    "(deftest test-mul-variable-local-defs\n",
    "  (setv a 2 b 7)\n",
    "  (check\n",
    "    (= (* a b) 14 \"mul pass\")\n",
    "    (= (* a b) -5 \"mul fail\")))\n",
    " \n",
    " (deftest test-mul-variable-partial-local-defs\n",
    "  (setv c 2)\n",
    "  (check\n",
    "    (= (* a b c) 2 \"mul pass\")\n",
    "    (= (* a b c) -3 \"mul fail\")))\n",
    "\n",
    "(deftest test-div\n",
    "  (check\n",
    "    (= (/ 2 1) 2 \"div pass\")\n",
    "    (= (/ 2 3) 4 \"div fail\")))\n",
    "\n",
    "(deftest test-div-variable\n",
    "  (check\n",
    "    (= (/ b a) 1 \"div pass\")\n",
    "    (= (/ a b) 4 \"div fail\")))\n",
    "\n",
    " (deftest test-div-variable-local-defs\n",
    "  (setv a 3 b 6)\n",
    "  (check\n",
    "    (= (/ b a) 2 \"div pass\")\n",
    "    (= (/ a b) 3 \"div fail\")))\n",
    " \n",
    " (deftest test-div-variable-partial-local-defs\n",
    "  (setv c 1)\n",
    "  (check\n",
    "    (= (/ b a c) 1.0 \"div pass\")\n",
    "    (= (/ a b c) 11.3 \"div fail\")))\n",
    "\n",
    "(deftest test-arithmetic-1-report-combined-results\n",
    "        (-> (combine-results \n",
    "             (▶ (test-sub) (test-div))\n",
    "               (check\n",
    "                    (= (+ 1 1) 2 \"add pass\")\n",
    "                    (= (- 0 1) 2 \"sub fail\")))\n",
    "            (report-combined-results)))\n",
    "\n",
    "(deftest test-arithmetic-2-report-combined-results\n",
    "        (-> (▶ (test-add) (test-mul))\n",
    "            (report-combined-results)))\n",
    "\n",
    "(deftest test-arithmetic-variable-local-defs\n",
    "        (-> (▶ (test-sub-variable-local-defs) \n",
    "               (test-mul-variable-local-defs))\n",
    "            (report-combined-results)))"
   ]
  },
  {
   "cell_type": "markdown",
   "id": "460ceda7",
   "metadata": {
    "heading_collapsed": true,
    "hideCode": true,
    "hidePrompt": true
   },
   "source": [
    "## `deftest`"
   ]
  },
  {
   "cell_type": "code",
   "execution_count": 24,
   "id": "c51f1c2a-4d94-4162-923a-25268aa98132",
   "metadata": {},
   "outputs": [],
   "source": [
    "(add-to-test-plan/result= \"deftest\" \n",
    "                          (▶ (test-add-report-combined-results))\n",
    "                          (, 2 1 1)\n",
    "                          \"Report combined results in `check`\")"
   ]
  },
  {
   "cell_type": "code",
   "execution_count": 25,
   "id": "c9dcd658-5aaa-4945-b0dc-0b6e849f67cb",
   "metadata": {},
   "outputs": [],
   "source": [
    "(add-to-test-plan/result= \"deftest-nested-and-check\" \n",
    "                          (▶ (test-arithmetic-1-report-combined-results))\n",
    "                          (, 6 3 3)\n",
    "                          \"Report combined results with nested tests and checks.\")"
   ]
  },
  {
   "cell_type": "code",
   "execution_count": 26,
   "id": "07ae3f72-d7a5-43ba-b449-e31ff2ff342c",
   "metadata": {},
   "outputs": [],
   "source": [
    "(add-to-test-plan/result= \"deftest-variable-local-defs\" \n",
    "                          (▶ (test-sub-variable-local-defs))\n",
    "                          (, 2 1 1)\n",
    "                          \"Variables defined locally in test body.\")"
   ]
  },
  {
   "cell_type": "markdown",
   "id": "4b85e2e3",
   "metadata": {
    "heading_collapsed": true,
    "hideCode": true,
    "hidePrompt": true
   },
   "source": [
    "## Fixtures"
   ]
  },
  {
   "cell_type": "markdown",
   "id": "54c03c7f",
   "metadata": {
    "heading_collapsed": true,
    "hidden": true,
    "hideCode": true,
    "hidePrompt": true
   },
   "source": [
    "### Defintions (`deffixture`)"
   ]
  },
  {
   "cell_type": "code",
   "execution_count": 27,
   "id": "7d7950cc",
   "metadata": {
    "ExecuteTime": {
     "end_time": "2021-11-06T23:59:38.755700Z",
     "start_time": "2021-11-06T23:59:38.686803Z"
    },
    "hidden": true,
    "hideCode": true,
    "hidePrompt": true
   },
   "outputs": [
    {
     "data": {
      "text/plain": [
       "<function fix_d at 0x7f99000d8840>"
      ]
     },
     "execution_count": 27,
     "metadata": {},
     "output_type": "execute_result"
    }
   ],
   "source": [
    "(deffixture fix-a ((setv a 1 b 1)) ((del a b)))\n",
    "(deffixture fix-b ((setv a 2 b 3)) ((del a b)))\n",
    "(deffixture fix-c ((setv a 1)) (None))\n",
    "(deffixture fix-d ((setv b 1)) (None))"
   ]
  },
  {
   "cell_type": "markdown",
   "id": "3ebe5b39",
   "metadata": {
    "heading_collapsed": true,
    "hidden": true,
    "hideCode": true,
    "hidePrompt": true
   },
   "source": [
    "### `with-fixture`"
   ]
  },
  {
   "cell_type": "code",
   "execution_count": 28,
   "id": "6ef2c12c-a399-414d-bd5e-0c73956392bf",
   "metadata": {},
   "outputs": [],
   "source": [
    "(add-to-test-plan/result= \"with-fixture\" \n",
    "                          (▶ (with-fixture fix-a (▶ (test-add-variable) (test-sub-variable))))\n",
    "                          (, 4 2 2)\n",
    "                          \"Multiple tests with one fixture.\")"
   ]
  },
  {
   "cell_type": "markdown",
   "id": "9c795fbb",
   "metadata": {
    "heading_collapsed": true,
    "hidden": true,
    "hideCode": true,
    "hidePrompt": true
   },
   "source": [
    "### Nested `with-fixture`"
   ]
  },
  {
   "cell_type": "code",
   "execution_count": 29,
   "id": "6fd0a13d-d616-4a59-a10e-89cebd9e5a89",
   "metadata": {},
   "outputs": [],
   "source": [
    "(add-to-test-plan/result= \"nested-with-fixture\" \n",
    "                          (▶ (with-fixture fix-c \n",
    "                             (▶ (with-fixture fix-d \n",
    "                                (▶ (test-add-variable) (test-mul-variable))))))\n",
    "                          (, 4 2 2)\n",
    "                          \"Multiple tests with nested fixtures.\")"
   ]
  },
  {
   "cell_type": "markdown",
   "id": "bcf1016e",
   "metadata": {
    "heading_collapsed": true,
    "hidden": true,
    "hideCode": true,
    "hidePrompt": true
   },
   "source": [
    "### `with-fixtures`"
   ]
  },
  {
   "cell_type": "code",
   "execution_count": 30,
   "id": "32455b6d-c273-4874-9aa8-119345adb6de",
   "metadata": {},
   "outputs": [],
   "source": [
    "(add-to-test-plan/result= \"with-fixtures\" \n",
    "                          (▶ (with-fixtures [fix-a fix-b] (▶ (test-mul-variable) (test-div-variable))))\n",
    "                          (, 8 2 6)\n",
    "                          \"Multiple tests using multiple fixtures.\")"
   ]
  },
  {
   "cell_type": "markdown",
   "id": "d9e20dfd",
   "metadata": {
    "heading_collapsed": true,
    "hidden": true,
    "hideCode": true,
    "hidePrompt": true
   },
   "source": [
    "### Nested `with-fixtures`"
   ]
  },
  {
   "cell_type": "code",
   "execution_count": 31,
   "id": "533aca79-82e3-4e60-b7b6-142675f3bae8",
   "metadata": {},
   "outputs": [],
   "source": [
    "(add-to-test-plan/result= \"nested-with-fixtures\" \n",
    "                          (▶ (with-fixtures [fix-c fix-c] \n",
    "                            (▶ (with-fixtures [fix-d fix-d] \n",
    "                              (▶ (test-add-variable) (test-sub-variable))))))\n",
    "                          (, 16 8 8)\n",
    "                          \"Multiple tests using multiple nested fixtures.\")"
   ]
  },
  {
   "cell_type": "markdown",
   "id": "046bead9",
   "metadata": {
    "heading_collapsed": true,
    "hidden": true,
    "hideCode": true,
    "hidePrompt": true
   },
   "source": [
    "### `with-fixture` in `deftest`"
   ]
  },
  {
   "cell_type": "code",
   "execution_count": 57,
   "id": "1d0d559d",
   "metadata": {
    "ExecuteTime": {
     "end_time": "2021-11-06T23:59:42.307048Z",
     "start_time": "2021-11-06T23:59:42.028001Z"
    },
    "hidden": true,
    "hideCode": true,
    "hidePrompt": true
   },
   "outputs": [
    {
     "data": {
      "text/plain": [
       "<function deftest_with_fixture at 0x7f990012a510>"
      ]
     },
     "execution_count": 57,
     "metadata": {},
     "output_type": "execute_result"
    }
   ],
   "source": [
    "(deftest deftest-with-fixture \n",
    "         (-> (combine-results\n",
    "           (▶ (with-fixture fix-a (▶ (test-add-variable) (test-sub-variable))))\n",
    "           (▶ (test-mul) (test-div)))\n",
    "             (report-combined-results)))"
   ]
  },
  {
   "cell_type": "code",
   "execution_count": 33,
   "id": "55a0a4ad-c524-46f6-b2dc-e896f5087204",
   "metadata": {},
   "outputs": [],
   "source": [
    "(add-to-test-plan/result= \"deftest-with-fixture\" \n",
    "                          (▶ (deftest-with-fixture))\n",
    "                          (, 8 4 4)\n",
    "                          \"deftest with fixture and tests.\")"
   ]
  },
  {
   "cell_type": "markdown",
   "id": "f8d3f190",
   "metadata": {
    "heading_collapsed": true,
    "hidden": true,
    "hideCode": true,
    "hidePrompt": true
   },
   "source": [
    "### `deftest` with local variable defintions"
   ]
  },
  {
   "cell_type": "code",
   "execution_count": 34,
   "id": "ab7e0905",
   "metadata": {
    "ExecuteTime": {
     "end_time": "2021-11-07T20:48:31.972644Z",
     "start_time": "2021-11-07T20:48:31.737734Z"
    },
    "hidden": true,
    "hideCode": true,
    "hidePrompt": true
   },
   "outputs": [
    {
     "data": {
      "text/plain": [
       "<function deftest_local_defs_with_fixture at 0x7f98f28b6bf8>"
      ]
     },
     "execution_count": 34,
     "metadata": {},
     "output_type": "execute_result"
    }
   ],
   "source": [
    "(deftest deftest-local-defs-with-fixture \n",
    "         (-> (combine-results\n",
    "           (▶ (with-fixture fix-a \n",
    "                            (▶ (test-add-variable-local-defs)\n",
    "                                (test-div-variable)))))                               \n",
    "             (report-combined-results)))"
   ]
  },
  {
   "cell_type": "code",
   "execution_count": 35,
   "id": "83fb6447-f196-478d-a056-59d6fdc05b08",
   "metadata": {},
   "outputs": [],
   "source": [
    "(add-to-test-plan/result= \"deftest-local-defs-with-fixture\" \n",
    "                          (▶ (deftest-local-defs-with-fixture))\n",
    "                          (, 4 2 2)\n",
    "                          \"Values of local variables when defined within deftest should be used instead of those in the fixture.\")"
   ]
  },
  {
   "cell_type": "markdown",
   "id": "999b3dcc",
   "metadata": {
    "heading_collapsed": true,
    "hidden": true,
    "hideCode": true,
    "hidePrompt": true
   },
   "source": [
    "### `deftest` with partial local variable definitions"
   ]
  },
  {
   "cell_type": "code",
   "execution_count": 36,
   "id": "f62475ae",
   "metadata": {
    "ExecuteTime": {
     "end_time": "2021-11-07T20:52:49.933920Z",
     "start_time": "2021-11-07T20:52:49.719549Z"
    },
    "hidden": true,
    "hideCode": true,
    "hidePrompt": true
   },
   "outputs": [
    {
     "data": {
      "text/plain": [
       "<function deftest_partial_local_defs_with_fixture at 0x7f98f292a7b8>"
      ]
     },
     "execution_count": 36,
     "metadata": {},
     "output_type": "execute_result"
    }
   ],
   "source": [
    "(deftest deftest-partial-local-defs-with-fixture \n",
    "         (-> (combine-results\n",
    "           (▶ (with-fixture fix-a \n",
    "                            (▶ (test-sub-variable-partial-local-defs)\n",
    "                                (test-mul-variable-partial-local-defs)))))                               \n",
    "             (report-combined-results)))"
   ]
  },
  {
   "cell_type": "code",
   "execution_count": 37,
   "id": "78f0c76a-21b0-4dcc-b935-2fb0a55e357b",
   "metadata": {},
   "outputs": [],
   "source": [
    "(add-to-test-plan/result= \"deftest-partial-local-defs-with-fixture\" \n",
    "                          (▶ (deftest-partial-local-defs-with-fixture))\n",
    "                          (, 4 2 2)\n",
    "                          \"Values of local variables defined within deftest should be used. Variable definitions missing should be taken from those defined in the fixture.\")"
   ]
  },
  {
   "cell_type": "markdown",
   "id": "cffe4507",
   "metadata": {
    "hideCode": true,
    "hidePrompt": true
   },
   "source": [
    "## Suites"
   ]
  },
  {
   "cell_type": "markdown",
   "id": "0d45c753",
   "metadata": {
    "heading_collapsed": true,
    "hideCode": true,
    "hidePrompt": true
   },
   "source": [
    "### Function Definitions"
   ]
  },
  {
   "cell_type": "code",
   "execution_count": 38,
   "id": "95980c97-4d21-465b-a2ee-03d9c3f3876e",
   "metadata": {},
   "outputs": [
    {
     "data": {
      "text/plain": [
       "<function hyx_generate_test_caseXsolidusXsuiteXequals_signX at 0x7f98f2986d90>"
      ]
     },
     "execution_count": 38,
     "metadata": {},
     "output_type": "execute_result"
    }
   ],
   "source": [
    "(defmacro generate-test-case/suite= [label actual expected description]\n",
    "   `(fn []\n",
    "          (compare-log-and-return-value ~label ~actual ~expected ~description)))"
   ]
  },
  {
   "cell_type": "code",
   "execution_count": 39,
   "id": "9f571d04-6094-44a1-a997-964b9986cc51",
   "metadata": {},
   "outputs": [
    {
     "data": {
      "text/plain": [
       "<function hyx_add_to_test_planXsolidusXsuiteXequals_signX at 0x7f98f2986730>"
      ]
     },
     "execution_count": 39,
     "metadata": {},
     "output_type": "execute_result"
    }
   ],
   "source": [
    "(defmacro add-to-test-plan/suite= [label actual expected description]\n",
    "          `(.append *test-plan* (generate-test-case/suite= ~label ~actual ~expected ~description)))"
   ]
  },
  {
   "cell_type": "markdown",
   "id": "875db29e",
   "metadata": {
    "heading_collapsed": true,
    "hideCode": true,
    "hidePrompt": true
   },
   "source": [
    "### With `check`"
   ]
  },
  {
   "cell_type": "code",
   "execution_count": 40,
   "id": "a40fc115",
   "metadata": {
    "ExecuteTime": {
     "end_time": "2021-11-07T21:24:14.788046Z",
     "start_time": "2021-11-07T21:24:14.706275Z"
    },
    "hidden": true,
    "hideCode": true,
    "hidePrompt": true,
    "tags": []
   },
   "outputs": [],
   "source": [
    "(defsuite suite-check\n",
    "  (setv results (-> (combine-results \n",
    "       (check\n",
    "           (= (+ 1 2) 3 \"add pass\")\n",
    "           (= (- 2 3) 4 \"sub fail\")\n",
    "           (= (/ 10 2) 3 \"div fail\")))\n",
    "  (report-combined-results))))"
   ]
  },
  {
   "cell_type": "code",
   "execution_count": 41,
   "id": "ba48e3a8-2baa-4a58-9509-33df4995547b",
   "metadata": {},
   "outputs": [],
   "source": [
    "(add-to-test-plan/suite= \"suite-check\" \n",
    "                         suite-check\n",
    "                         (, 3 1 2)\n",
    "                         \"Report combined results in suite with checks.\")"
   ]
  },
  {
   "cell_type": "markdown",
   "id": "7f4c7379",
   "metadata": {
    "heading_collapsed": true,
    "hideCode": true,
    "hidePrompt": true
   },
   "source": [
    "### With `deftest`"
   ]
  },
  {
   "cell_type": "code",
   "execution_count": 42,
   "id": "38a4b66e",
   "metadata": {
    "ExecuteTime": {
     "end_time": "2021-11-07T21:31:07.470964Z",
     "start_time": "2021-11-07T21:31:07.335523Z"
    },
    "hidden": true,
    "hideCode": true,
    "hidePrompt": true,
    "tags": []
   },
   "outputs": [],
   "source": [
    "(defsuite suite-deftest\n",
    "  (setv results (-> (combine-results \n",
    "       (▶ (test-add) (test-sub)))\n",
    "  (report-combined-results))))\n",
    "\n",
    ";; (suite-deftest)"
   ]
  },
  {
   "cell_type": "code",
   "execution_count": 43,
   "id": "1c86f3d6-e694-40e3-a585-1eae38445a04",
   "metadata": {},
   "outputs": [],
   "source": [
    "(add-to-test-plan/suite= \"suite-deftest\" \n",
    "                         suite-deftest\n",
    "                         (, 4 2 2)\n",
    "                         \"Report combined results in suite with deftests.\")"
   ]
  },
  {
   "cell_type": "markdown",
   "id": "97401649",
   "metadata": {
    "heading_collapsed": true,
    "hideCode": true,
    "hidePrompt": true
   },
   "source": [
    "### With nested `deftests`"
   ]
  },
  {
   "cell_type": "code",
   "execution_count": 44,
   "id": "cb4cbeab",
   "metadata": {
    "ExecuteTime": {
     "end_time": "2021-11-07T21:34:12.434042Z",
     "start_time": "2021-11-07T21:34:11.904764Z"
    },
    "hidden": true,
    "hideCode": true,
    "hidePrompt": true,
    "tags": []
   },
   "outputs": [],
   "source": [
    "(defsuite suite-nested-deftests\n",
    "  (setv results (-> (combine-results \n",
    "       (▶ (test-arithmetic-1-report-combined-results) \n",
    "          (test-arithmetic-2-report-combined-results)))\n",
    "  (report-combined-results))))\n",
    "\n",
    ";; (suite-nested-deftests)"
   ]
  },
  {
   "cell_type": "code",
   "execution_count": 45,
   "id": "5b8f90bb-2d3d-4249-b5d2-28f693e23f5b",
   "metadata": {},
   "outputs": [],
   "source": [
    "(add-to-test-plan/suite= \"suite-nested-deftests\" \n",
    "                         suite-nested-deftests\n",
    "                         (, 10 5 5)\n",
    "                         \"Report combined results in suite with nested deftests.\")"
   ]
  },
  {
   "cell_type": "markdown",
   "id": "b83cbcc1",
   "metadata": {
    "hideCode": true,
    "hidePrompt": true
   },
   "source": [
    "### Nested suites"
   ]
  },
  {
   "cell_type": "code",
   "execution_count": 46,
   "id": "72a378a1",
   "metadata": {
    "ExecuteTime": {
     "end_time": "2021-11-07T06:08:17.059360Z",
     "start_time": "2021-11-07T06:08:17.029224Z"
    },
    "hideCode": true,
    "hidePrompt": true,
    "tags": []
   },
   "outputs": [],
   "source": [
    "(defsuite nested-suites\n",
    "  (setv results \n",
    "        (-> (combine-results \n",
    "             (suite-check :test-logger test-logger)\n",
    "             (suite-deftest :test-logger test-logger) \n",
    "             (suite-nested-deftests :test-logger test-logger))\n",
    "            (report-combined-results))))\n",
    "  \n",
    ";; (nested-suites)"
   ]
  },
  {
   "cell_type": "code",
   "execution_count": 47,
   "id": "3b32dd50-5486-4394-9032-6c9c4fd66c25",
   "metadata": {},
   "outputs": [],
   "source": [
    "(add-to-test-plan/suite= \"nested-suites\" \n",
    "                         nested-suites\n",
    "                         (, 17 8 9)\n",
    "                         \"Report combined results in suite with nested suites.\")"
   ]
  },
  {
   "cell_type": "markdown",
   "id": "601dd115",
   "metadata": {
    "heading_collapsed": true,
    "hideCode": true,
    "hidePrompt": true
   },
   "source": [
    "### Suites `with-fixture` in `deftest`"
   ]
  },
  {
   "cell_type": "code",
   "execution_count": 48,
   "id": "dcb9cbcc",
   "metadata": {
    "ExecuteTime": {
     "end_time": "2021-11-07T21:36:53.806128Z",
     "start_time": "2021-11-07T21:36:53.281858Z"
    },
    "hidden": true,
    "hideCode": true,
    "hidePrompt": true
   },
   "outputs": [],
   "source": [
    "(defsuite suite-with-fixture-in-deftest\n",
    "          (setv results \n",
    "                (-> (combine-results\n",
    "                     (▶ (deftest-with-fixture))))))\n",
    "\n",
    ";; (suite-with-fixture-in-deftest)"
   ]
  },
  {
   "cell_type": "code",
   "execution_count": 49,
   "id": "47acbc8b-d460-40cc-9de1-2531b69d3c28",
   "metadata": {},
   "outputs": [],
   "source": [
    "(add-to-test-plan/suite= \"suite-with-fixture-in-deftest\" \n",
    "                         suite-with-fixture-in-deftest\n",
    "                         (, 8 4 4)\n",
    "                         \"deftest in suite containing a fixture.\")"
   ]
  },
  {
   "cell_type": "markdown",
   "id": "02db77e9",
   "metadata": {
    "hideCode": true,
    "hidePrompt": true
   },
   "source": [
    "### Suites `with-fixtures`"
   ]
  },
  {
   "cell_type": "code",
   "execution_count": 58,
   "id": "6b114c02",
   "metadata": {
    "ExecuteTime": {
     "end_time": "2021-11-07T21:37:24.688550Z",
     "start_time": "2021-11-07T21:37:24.447992Z"
    },
    "hideCode": true,
    "hidePrompt": true
   },
   "outputs": [],
   "source": [
    "(defsuite suite-with-fixtures\n",
    "          (setv results \n",
    "                (-> (combine-results\n",
    "                     (▶ (with-fixtures [fix-a fix-b] \n",
    "                                       (▶ (test-mul-variable) \n",
    "                                          (test-div-variable))))))))\n",
    "\n",
    ";; (suite-with-fixtures)"
   ]
  },
  {
   "cell_type": "code",
   "execution_count": 51,
   "id": "a03a95e3-e3cf-42bf-bf37-e2720422e494",
   "metadata": {},
   "outputs": [],
   "source": [
    "(add-to-test-plan/suite= \"suite-with-fixtures\" \n",
    "                         suite-with-fixtures\n",
    "                         (, 8 2 6)\n",
    "                         \"Suite with multiple fixtures for multiple tests.\")"
   ]
  },
  {
   "cell_type": "markdown",
   "id": "4e668d6c",
   "metadata": {
    "hideCode": true,
    "hidePrompt": true
   },
   "source": [
    "### Nested suites with fixtures"
   ]
  },
  {
   "cell_type": "code",
   "execution_count": 52,
   "id": "70cafaf0",
   "metadata": {
    "ExecuteTime": {
     "end_time": "2021-11-07T06:14:33.788642Z",
     "start_time": "2021-11-07T06:14:33.636174Z"
    },
    "hideCode": true,
    "hidePrompt": true
   },
   "outputs": [],
   "source": [
    "(defsuite suite-with-nested-fixture\n",
    "          (setv results \n",
    "                 (▶ (with-fixture fix-c \n",
    "                  (▶ (with-fixture fix-d (▶ (test-add-variable) \n",
    "                                             (test-mul-variable))))))))\n",
    "\n",
    ";; (suite-with-nested-fixture)"
   ]
  },
  {
   "cell_type": "code",
   "execution_count": 53,
   "id": "4a7bcb38-0969-45e5-a13c-98189ecd0682",
   "metadata": {},
   "outputs": [],
   "source": [
    "(add-to-test-plan/suite= \"suite-with-nested-fixture\" \n",
    "                         suite-with-nested-fixture\n",
    "                         (, 4 2 2)\n",
    "                         \"Suite with nested fixtures running multiple tests.\")"
   ]
  },
  {
   "cell_type": "markdown",
   "id": "a7239952-688d-4f42-ae71-055c58e2f917",
   "metadata": {},
   "source": [
    "### Nested suites with nested fixtures"
   ]
  },
  {
   "cell_type": "code",
   "execution_count": 54,
   "id": "057afcb1",
   "metadata": {
    "ExecuteTime": {
     "end_time": "2021-11-07T06:16:18.389289Z",
     "start_time": "2021-11-07T06:16:18.342531Z"
    },
    "hideCode": true,
    "hidePrompt": true
   },
   "outputs": [],
   "source": [
    "(defsuite nested-suites-with-nested-fixtures\n",
    "          (setv results \n",
    "                (-> (combine-results \n",
    "                     (suite-with-fixtures :test-logger test-logger)\n",
    "                     (suite-with-nested-fixture :test-logger test-logger))\n",
    "                    (report-combined-results))))\n",
    "\n",
    ";; (nested-suites-with-nested-fixtures)"
   ]
  },
  {
   "cell_type": "code",
   "execution_count": 55,
   "id": "944e7515-6530-420e-8359-695520ca8e96",
   "metadata": {},
   "outputs": [],
   "source": [
    "(add-to-test-plan/suite= \"nested-suites-with-nested-fixtures\" \n",
    "                         nested-suites-with-nested-fixtures\n",
    "                         (, 12 4 8)\n",
    "                         \"Suite with nested suites and nested fixtures.\")"
   ]
  },
  {
   "cell_type": "markdown",
   "id": "65d9cf61-e997-480e-99f4-1dfd8ff67317",
   "metadata": {},
   "source": [
    "## Run Tests!"
   ]
  },
  {
   "cell_type": "code",
   "execution_count": 56,
   "id": "1795f5fc-d445-41b6-b3b9-96befefce81e",
   "metadata": {},
   "outputs": [
    {
     "name": "stdout",
     "output_type": "stream",
     "text": [
      "2021-11-11 10:37:39.267 - DEBUG - ✓ Pass: report-result-pass - Passing output format\n",
      "2021-11-11 10:37:39.269 - DEBUG - ✓ Pass: report-result-pass - Return value\n",
      "2021-11-11 10:37:39.302 - DEBUG - ✓ Pass: report-result-fail - Failing output format\n",
      "2021-11-11 10:37:39.303 - DEBUG - ✓ Pass: report-result-fail - Return value\n",
      "2021-11-11 10:37:39.416 - DEBUG - ✓ Pass: check - Multiple passing and failing statements\n",
      "2021-11-11 10:37:39.417 - DEBUG - ✓ Pass: check - Return value\n",
      "2021-11-11 10:37:39.610 - DEBUG - ✓ Pass: combine-results - Combine results across multiple `check` statements.\n",
      "2021-11-11 10:37:39.612 - DEBUG - ✓ Pass: combine-results - Return value\n",
      "2021-11-11 10:37:39.797 - DEBUG - ✓ Pass: report-combined-results - Combine and report results across multiple `check` statements\n",
      "2021-11-11 10:37:39.799 - DEBUG - ✓ Pass: report-combined-results - Return value\n",
      "2021-11-11 10:37:39.869 - DEBUG - ✓ Pass: deftest - Report combined results in `check`\n",
      "2021-11-11 10:37:39.870 - DEBUG - ✓ Pass: deftest - Return value\n",
      "2021-11-11 10:37:40.014 - DEBUG - ✓ Pass: deftest-nested-and-check - Report combined results with nested tests and checks.\n",
      "2021-11-11 10:37:40.015 - DEBUG - ✓ Pass: deftest-nested-and-check - Return value\n",
      "2021-11-11 10:37:40.073 - DEBUG - ✓ Pass: deftest-variable-local-defs - Variables defined locally in test body.\n",
      "2021-11-11 10:37:40.074 - DEBUG - ✓ Pass: deftest-variable-local-defs - Return value\n",
      "2021-11-11 10:37:40.189 - DEBUG - ✓ Pass: with-fixture - Multiple tests with one fixture.\n",
      "2021-11-11 10:37:40.190 - DEBUG - ✓ Pass: with-fixture - Return value\n",
      "2021-11-11 10:37:40.296 - DEBUG - ✓ Pass: nested-with-fixture - Multiple tests with nested fixtures.\n",
      "2021-11-11 10:37:40.297 - DEBUG - ✓ Pass: nested-with-fixture - Return value\n",
      "2021-11-11 10:37:40.483 - DEBUG - ✓ Pass: with-fixtures - Multiple tests using multiple fixtures.\n",
      "2021-11-11 10:37:40.484 - DEBUG - ✓ Pass: with-fixtures - Return value\n",
      "2021-11-11 10:37:40.934 - DEBUG - ✓ Pass: nested-with-fixtures - Multiple tests using multiple nested fixtures.\n",
      "2021-11-11 10:37:40.935 - DEBUG - ✓ Pass: nested-with-fixtures - Return value\n",
      "2021-11-11 10:37:41.143 - DEBUG - ✓ Pass: deftest-with-fixture - deftest with fixture and tests.\n",
      "2021-11-11 10:37:41.144 - DEBUG - ✓ Pass: deftest-with-fixture - Return value\n",
      "2021-11-11 10:37:41.268 - DEBUG - ✓ Pass: deftest-local-defs-with-fixture - Values of local variables when defined within deftest should be used instead of those in the fixture.\n",
      "2021-11-11 10:37:41.269 - DEBUG - ✓ Pass: deftest-local-defs-with-fixture - Return value\n",
      "2021-11-11 10:37:41.375 - DEBUG - ✓ Pass: deftest-partial-local-defs-with-fixture - Values of local variables defined within deftest should be used. Variable definitions missing should be taken from those defined in the fixture.\n",
      "2021-11-11 10:37:41.376 - DEBUG - ✓ Pass: deftest-partial-local-defs-with-fixture - Return value\n",
      "2021-11-11 10:37:41.450 - DEBUG - ✓ Pass: suite-check - Report combined results in suite with checks.\n",
      "2021-11-11 10:37:41.452 - DEBUG - ✓ Pass: suite-check - Return value\n",
      "2021-11-11 10:37:41.550 - DEBUG - ✓ Pass: suite-deftest - Report combined results in suite with deftests.\n",
      "2021-11-11 10:37:41.551 - DEBUG - ✓ Pass: suite-deftest - Return value\n",
      "2021-11-11 10:37:41.776 - DEBUG - ✓ Pass: suite-nested-deftests - Report combined results in suite with nested deftests.\n",
      "2021-11-11 10:37:41.777 - DEBUG - ✓ Pass: suite-nested-deftests - Return value\n",
      "2021-11-11 10:37:42.118 - DEBUG - ✓ Pass: nested-suites - Report combined results in suite with nested suites.\n",
      "2021-11-11 10:37:42.119 - DEBUG - ✓ Pass: nested-suites - Return value\n",
      "2021-11-11 10:37:42.308 - DEBUG - ✓ Pass: suite-with-fixture-in-deftest - deftest in suite containing a fixture.\n",
      "2021-11-11 10:37:42.309 - DEBUG - ✓ Pass: suite-with-fixture-in-deftest - Return value\n",
      "2021-11-11 10:37:42.579 - DEBUG - ✓ Pass: suite-with-fixtures - Suite with multiple fixtures for multiple tests.\n",
      "2021-11-11 10:37:42.580 - DEBUG - ✓ Pass: suite-with-fixtures - Return value\n",
      "2021-11-11 10:37:42.708 - DEBUG - ✓ Pass: suite-with-nested-fixture - Suite with nested fixtures running multiple tests.\n",
      "2021-11-11 10:37:42.709 - DEBUG - ✓ Pass: suite-with-nested-fixture - Return value\n",
      "2021-11-11 10:37:43.032 - DEBUG - ✓ Pass: nested-suites-with-nested-fixtures - Suite with nested suites and nested fixtures.\n",
      "2021-11-11 10:37:43.033 - DEBUG - ✓ Pass: nested-suites-with-nested-fixtures - Return value\n",
      "2021-11-11 10:37:43.034 - INFO - All tests PASSED (46, 46, 0)\n"
     ]
    }
   ],
   "source": [
    "(as-> (sum-results (map #%(%1) (distinct *test-plan*))) it\n",
    "      (if (= (get it 2) 0)\n",
    "          (->> (.format \"All tests PASSED {}\" (repr it)) (.info *hyprovo-logger*))\n",
    "          (->> (.format \"{} tests FAILED {}\" (get it 2) (repr it)) (.info *hyprovo-logger*))))"
   ]
  },
  {
   "cell_type": "code",
   "execution_count": null,
   "id": "4adfdeb9-53f6-4e93-9b7c-43b7cabdd114",
   "metadata": {},
   "outputs": [],
   "source": []
  }
 ],
 "metadata": {
  "kernelspec": {
   "display_name": "Calysto Hy",
   "language": "hy",
   "name": "calysto_hy"
  },
  "language_info": {
   "codemirror_mode": {
    "name": "scheme"
   },
   "mimetype": "text/x-hylang",
   "name": "hy",
   "pygments_lexer": "lisp"
  },
  "toc": {
   "base_numbering": 1,
   "nav_menu": {},
   "number_sections": true,
   "sideBar": true,
   "skip_h1_title": true,
   "title_cell": "Table of Contents",
   "title_sidebar": "Contents",
   "toc_cell": false,
   "toc_position": {},
   "toc_section_display": true,
   "toc_window_display": true
  },
  "toc-autonumbering": false,
  "toc-showcode": false,
  "toc-showmarkdowntxt": false,
  "toc-showtags": false
 },
 "nbformat": 4,
 "nbformat_minor": 5
}
