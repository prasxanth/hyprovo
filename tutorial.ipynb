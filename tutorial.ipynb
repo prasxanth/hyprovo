{
 "cells": [
  {
   "cell_type": "markdown",
   "id": "af9d6931",
   "metadata": {},
   "source": [
    "# hyprovo: A Minimal Testing Framework for Hy"
   ]
  },
  {
   "cell_type": "markdown",
   "id": "275b01c0",
   "metadata": {},
   "source": [
    "Before running tests, the `setup-test-env` macro must be called to setup the parameters of the test environment. "
   ]
  },
  {
   "cell_type": "code",
   "execution_count": 1,
   "id": "31062627",
   "metadata": {
    "ExecuteTime": {
     "end_time": "2021-11-25T06:30:30.237798Z",
     "start_time": "2021-11-25T06:30:30.148058Z"
    }
   },
   "outputs": [],
   "source": [
    "(require [hyprovo.framework [setup-test-env]])\n",
    "\n",
    "(setup-test-env)"
   ]
  },
  {
   "cell_type": "markdown",
   "id": "75b05ce8",
   "metadata": {},
   "source": [
    "This is required if tests are run in a global environment. Tests can also be executed within *suites* which automatically take care of initializing the (local) test environment. Suites are the recommended way to run tests (see the section on [Suites](#Suites) for details)."
   ]
  },
  {
   "cell_type": "markdown",
   "id": "7a3d58bf",
   "metadata": {},
   "source": [
    "## Output and Logging\n",
    "\n",
    "All output is logged using the builtin [logging](https://docs.python.org/3/library/logging.html) module. A logger module, `hyprovo.logger`, is provided that offers three frequently used loggers,\n",
    "\n",
    "* `console-logger`\n",
    "* `file-logger`\n",
    "* `console-and-file-logger`\n",
    "\n",
    "The last two are functions that require a `:log-file` (filename) argument.\n",
    "\n",
    "Logging is set using the `*test-logger*` variable. `setup-test-env` initializes `*test-logger*`. By default, the `*test-logger*` variable is set to `hyprovo.logger.console-logger`. \n",
    "\n",
    "`*test-logger*` can be set to any custom logger (see the `hyprovo.logger` module for examples)."
   ]
  },
  {
   "cell_type": "markdown",
   "id": "15cf0bac",
   "metadata": {},
   "source": [
    "## Validation and Reporting\n",
    "\n",
    "The `check` macro is the basic \"unit\" of validation. It takes one or more statements of the form,\n",
    "\n",
    "```\n",
    "(op expr expected description)\n",
    "```\n",
    "\n",
    "where `op` is the comparison (operator), `expr` is the expression to be tested, `expected` is the result to compare against and `description` is a string describing the test case. All arguments are mandatory. As an example,"
   ]
  },
  {
   "cell_type": "code",
   "execution_count": 2,
   "id": "bb2a43d2",
   "metadata": {
    "ExecuteTime": {
     "end_time": "2021-11-25T06:30:30.292108Z",
     "start_time": "2021-11-25T06:30:30.240249Z"
    }
   },
   "outputs": [
    {
     "name": "stdout",
     "output_type": "stream",
     "text": [
      "2021-11-24 22:30:30.281 - INFO - Pass ✓...  Add pass\n",
      "2021-11-24 22:30:30.287 - ERROR - Fail ✗...  Add fail\n"
     ]
    },
    {
     "data": {
      "text/plain": [
       "(2, 1, 1)"
      ]
     },
     "execution_count": 2,
     "metadata": {},
     "output_type": "execute_result"
    }
   ],
   "source": [
    "(require [hyprovo.framework [check]])\n",
    "\n",
    "(check \n",
    "   (= (+ 1 2) 3 \"Add pass\")\n",
    "   (= (+ 1 2) 5 \"Add fail\"))"
   ]
  },
  {
   "cell_type": "markdown",
   "id": "5dd00e65",
   "metadata": {},
   "source": [
    "Note above that the logging output is formatted as,\n",
    "\n",
    "```\n",
    "Timestamp - Level - Message\n",
    "```\n",
    "\n",
    "The tuple `(2, 1, 1)` is the return value of `check` denoting the aggregated statistics for all the test results. It is of the form,\n",
    "\n",
    "```\n",
    "(total, pass, fail)\n",
    "```\n",
    "\n",
    "So, `(2, 1, 1)` indicates that out of a total of 2 tests, 1 passed and 1 failed."
   ]
  },
  {
   "cell_type": "markdown",
   "id": "02d34cb5",
   "metadata": {},
   "source": [
    "## Combining Results\n",
    "\n",
    "The `combine-results` function is useful for aggregating the `(total, pass, fail)` statistics from multiple tests. For example, the two statements in `check` above could be written separately and then combined as follows,"
   ]
  },
  {
   "cell_type": "code",
   "execution_count": 3,
   "id": "5fcb2a77",
   "metadata": {
    "ExecuteTime": {
     "end_time": "2021-11-25T06:30:30.346367Z",
     "start_time": "2021-11-25T06:30:30.295681Z"
    }
   },
   "outputs": [
    {
     "name": "stdout",
     "output_type": "stream",
     "text": [
      "2021-11-24 22:30:30.331 - INFO - Pass ✓...  Add pass\n",
      "2021-11-24 22:30:30.343 - ERROR - Fail ✗...  Add fail\n"
     ]
    },
    {
     "data": {
      "text/plain": [
       "(2, 1, 1)"
      ]
     },
     "execution_count": 3,
     "metadata": {},
     "output_type": "execute_result"
    }
   ],
   "source": [
    "(import [hyprovo.framework [combine-results]])\n",
    "\n",
    "(combine-results \n",
    " (check (= (+ 1 2) 3 \"Add pass\"))\n",
    " (check (= (+ 1 2) 5 \"Add fail\")))"
   ]
  },
  {
   "cell_type": "markdown",
   "id": "13f3d5ea",
   "metadata": {},
   "source": [
    "The `report-combined-results` macro is useful to log the aggregate summary `(total, pass, fail)` tuple in textual form. This macro returns the `(total, pass, fail)` tuple so it can be used to report intermediate results,"
   ]
  },
  {
   "cell_type": "code",
   "execution_count": 4,
   "id": "21be8bd3",
   "metadata": {
    "ExecuteTime": {
     "end_time": "2021-11-25T06:30:30.434017Z",
     "start_time": "2021-11-25T06:30:30.348492Z"
    }
   },
   "outputs": [
    {
     "name": "stdout",
     "output_type": "stream",
     "text": [
      "2021-11-24 22:30:30.404 - INFO - Pass ✓...  Add pass\n",
      "2021-11-24 22:30:30.415 - ERROR - Fail ✗...  Add fail\n",
      "2021-11-24 22:30:30.416 - DEBUG -  Test Summary → Total: 2    Pass: 1    Fail: 1\n",
      "2021-11-24 22:30:30.431 - INFO - Pass ✓...  Sub pass\n"
     ]
    },
    {
     "data": {
      "text/plain": [
       "(3, 2, 1)"
      ]
     },
     "execution_count": 4,
     "metadata": {},
     "output_type": "execute_result"
    }
   ],
   "source": [
    "(require [hyprovo.framework [report-combined-results]])\n",
    "\n",
    "(-> (combine-results\n",
    "     (-> (combine-results \n",
    "          (check (= (+ 1 2) 3 \"Add pass\"))\n",
    "          (check (= (+ 1 2) 5 \"Add fail\")))\n",
    "     (report-combined-results))\n",
    "     (check (= (- 1 2) -1 \"Sub pass\"))))"
   ]
  },
  {
   "cell_type": "markdown",
   "id": "c28c5959",
   "metadata": {},
   "source": [
    "The `Test Summary` line is added by `report-combined-results`."
   ]
  },
  {
   "cell_type": "markdown",
   "id": "cc84e45e",
   "metadata": {},
   "source": [
    "## Defining Tests\n",
    "\n",
    "Tests are defined using the `deftest` macro. `deftest` is typically used to group related tests under a common name. It may also contain parameter declarations required to run the tests. \n",
    "\n",
    "The `check` statement presented previously can be wrapped in `deftest` as,"
   ]
  },
  {
   "cell_type": "code",
   "execution_count": 5,
   "id": "fe527d36",
   "metadata": {
    "ExecuteTime": {
     "end_time": "2021-11-25T06:30:30.607229Z",
     "start_time": "2021-11-25T06:30:30.436311Z"
    }
   },
   "outputs": [
    {
     "data": {
      "text/plain": [
       "<function test_add at 0x7fe5c96ad8c8>"
      ]
     },
     "execution_count": 5,
     "metadata": {},
     "output_type": "execute_result"
    }
   ],
   "source": [
    "(require [hyprovo.framework [deftest]])\n",
    "\n",
    "(deftest test-add\n",
    "  (check \n",
    "   (= (+ 1 2) 3 \"Add pass\")\n",
    "   (= (+ 1 2) 5 \"Add fail\")))"
   ]
  },
  {
   "cell_type": "markdown",
   "id": "7fc87189",
   "metadata": {},
   "source": [
    "The `deftest` macro returns a macro that returns an anonymous function. To execute a test defined using `deftest`, use the \"double parenthesis\" notation, "
   ]
  },
  {
   "cell_type": "code",
   "execution_count": 6,
   "id": "bb222720",
   "metadata": {
    "ExecuteTime": {
     "end_time": "2021-11-25T06:30:30.673461Z",
     "start_time": "2021-11-25T06:30:30.609794Z"
    }
   },
   "outputs": [
    {
     "name": "stdout",
     "output_type": "stream",
     "text": [
      "2021-11-24 22:30:30.664 - INFO - Pass ✓... (test-add): Add pass\n",
      "2021-11-24 22:30:30.670 - ERROR - Fail ✗... (test-add): Add fail\n"
     ]
    },
    {
     "data": {
      "text/plain": [
       "(2, 1, 1)"
      ]
     },
     "execution_count": 6,
     "metadata": {},
     "output_type": "execute_result"
    }
   ],
   "source": [
    "((test-add))"
   ]
  },
  {
   "cell_type": "markdown",
   "id": "ff4e0355",
   "metadata": {},
   "source": [
    "The inner most set of parenthesis defines the function, while the outermost executes it. This construct thus allows simultaneous definition and execution of the test function at the point of call. \n",
    "\n",
    "> The name of the test function is added to the output log statement.\n",
    "\n",
    "The test body may contain any statement. It is suggested that the last statement return the test aggregate `(total, pass, fail)` tuple so that results can be combined with other test functions,"
   ]
  },
  {
   "cell_type": "code",
   "execution_count": 7,
   "id": "a8bce770",
   "metadata": {
    "ExecuteTime": {
     "end_time": "2021-11-25T06:30:30.958654Z",
     "start_time": "2021-11-25T06:30:30.675593Z"
    }
   },
   "outputs": [
    {
     "name": "stdout",
     "output_type": "stream",
     "text": [
      "2021-11-24 22:30:30.920 - INFO - Pass ✓... (test-add-var): Add pass\n",
      "2021-11-24 22:30:30.927 - ERROR - Fail ✗... (test-add-var): Add fail\n"
     ]
    },
    {
     "data": {
      "text/plain": [
       "(2, 1, 1)"
      ]
     },
     "execution_count": 7,
     "metadata": {},
     "output_type": "execute_result"
    }
   ],
   "source": [
    "(deftest test-add-var\n",
    "  (setv a 1 b 2)\n",
    "  (check \n",
    "   (= (+ a b) 3 \"Add pass\")\n",
    "   (= (+ a b) 5 \"Add fail\")))\n",
    "\n",
    "((test-add-var))"
   ]
  },
  {
   "cell_type": "markdown",
   "id": "e4c634fc",
   "metadata": {},
   "source": [
    "For many tests that require a common set of setup and teardown operations, consider using *fixtures* described in the next section.\n",
    "\n",
    "Tests can be nested, and also combined with check statements,"
   ]
  },
  {
   "cell_type": "code",
   "execution_count": 8,
   "id": "0a3aa31f",
   "metadata": {
    "ExecuteTime": {
     "end_time": "2021-11-25T06:30:31.167281Z",
     "start_time": "2021-11-25T06:30:30.963503Z"
    }
   },
   "outputs": [
    {
     "data": {
      "text/plain": [
       "<function test_sub at 0x7fe5c944ef28>"
      ]
     },
     "execution_count": 8,
     "metadata": {},
     "output_type": "execute_result"
    }
   ],
   "source": [
    "(deftest test-sub\n",
    "  (check \n",
    "   (= (- 1 2) -1 \"Sub pass\")\n",
    "   (= (- 1 2) 1 \"Sub fail\")))"
   ]
  },
  {
   "cell_type": "code",
   "execution_count": 9,
   "id": "bcdff383",
   "metadata": {
    "ExecuteTime": {
     "end_time": "2021-11-25T06:30:31.667493Z",
     "start_time": "2021-11-25T06:30:31.169733Z"
    }
   },
   "outputs": [
    {
     "name": "stdout",
     "output_type": "stream",
     "text": [
      "2021-11-24 22:30:31.620 - INFO - Pass ✓... (test-basic-arithmetic): Add pass\n",
      "2021-11-24 22:30:31.632 - INFO - Pass ✓... (test-basic-arithmetic / test-add): Add pass\n",
      "2021-11-24 22:30:31.638 - ERROR - Fail ✗... (test-basic-arithmetic / test-add): Add fail\n",
      "2021-11-24 22:30:31.653 - INFO - Pass ✓... (test-basic-arithmetic / test-sub): Sub pass\n",
      "2021-11-24 22:30:31.663 - ERROR - Fail ✗... (test-basic-arithmetic / test-sub): Sub fail\n",
      "2021-11-24 22:30:31.664 - DEBUG - (test-basic-arithmetic): Test Summary → Total: 5    Pass: 3    Fail: 2\n"
     ]
    },
    {
     "data": {
      "text/plain": [
       "(5, 3, 2)"
      ]
     },
     "execution_count": 9,
     "metadata": {},
     "output_type": "execute_result"
    }
   ],
   "source": [
    "(deftest test-basic-arithmetic\n",
    "         (setv a 2 b 2)\n",
    "         (-> (combine-results \n",
    "              ((test-add)) \n",
    "              ((test-sub))\n",
    "              (check (= (+ a b) 4 \"Add pass\")))\n",
    "             (report-combined-results)))\n",
    "\n",
    "((test-basic-arithmetic))"
   ]
  },
  {
   "cell_type": "markdown",
   "id": "cb0de2f2",
   "metadata": {},
   "source": [
    "> For nested functions, the names of each of the outer test functions are added to the path of the test name.\n",
    "\n",
    "The function `run-tests` can also be used to execute tests. It accepts multiple tests as arguments and provides a cleaner interface. `▶` is an alias to `run-tests`. Using this, the `test-basic-arithmetic` function could be written more simply,"
   ]
  },
  {
   "cell_type": "code",
   "execution_count": 10,
   "id": "e04fc5c3",
   "metadata": {
    "ExecuteTime": {
     "end_time": "2021-11-25T06:30:32.161090Z",
     "start_time": "2021-11-25T06:30:31.669595Z"
    }
   },
   "outputs": [
    {
     "name": "stdout",
     "output_type": "stream",
     "text": [
      "2021-11-24 22:30:32.104 - INFO - Pass ✓... (test-basic-arithmetic): Add pass\n",
      "2021-11-24 22:30:32.120 - INFO - Pass ✓... (test-basic-arithmetic / test-add): Add pass\n",
      "2021-11-24 22:30:32.131 - ERROR - Fail ✗... (test-basic-arithmetic / test-add): Add fail\n",
      "2021-11-24 22:30:32.147 - INFO - Pass ✓... (test-basic-arithmetic / test-sub): Sub pass\n",
      "2021-11-24 22:30:32.156 - ERROR - Fail ✗... (test-basic-arithmetic / test-sub): Sub fail\n",
      "2021-11-24 22:30:32.157 - DEBUG - (test-basic-arithmetic): Test Summary → Total: 5    Pass: 3    Fail: 2\n"
     ]
    },
    {
     "data": {
      "text/plain": [
       "(5, 3, 2)"
      ]
     },
     "execution_count": 10,
     "metadata": {},
     "output_type": "execute_result"
    }
   ],
   "source": [
    "(import [hyprovo.framework [▶]])\n",
    "\n",
    "(deftest test-basic-arithmetic\n",
    "         (setv a 2 b 2)\n",
    "         (-> (combine-results \n",
    "              (▶ (test-add) (test-sub))\n",
    "              (check (= (+ a b) 4 \"Add pass\")))\n",
    "             (report-combined-results)))\n",
    "\n",
    "((test-basic-arithmetic))"
   ]
  },
  {
   "cell_type": "markdown",
   "id": "a150bd00",
   "metadata": {},
   "source": [
    "## Fixtures\n",
    "\n",
    "[Fixtures](https://stackoverflow.com/questions/12071344/what-are-fixtures-in-programming) are defined in terms of setup and teardown operations using the `deffixture` macro and take the following form,\n",
    "\n",
    "```\n",
    "(deffixture fixture-name setup teardown)\n",
    "```"
   ]
  },
  {
   "cell_type": "code",
   "execution_count": 11,
   "id": "bff21a0d",
   "metadata": {
    "ExecuteTime": {
     "end_time": "2021-11-25T06:30:32.206117Z",
     "start_time": "2021-11-25T06:30:32.163741Z"
    }
   },
   "outputs": [
    {
     "data": {
      "text/plain": [
       "<function fix_a at 0x7fe5d0131378>"
      ]
     },
     "execution_count": 11,
     "metadata": {},
     "output_type": "execute_result"
    }
   ],
   "source": [
    "(require [hyprovo.framework [deffixture]])\n",
    "\n",
    "(deffixture fix-a ((setv a 1 b 1)) ((del a b)))"
   ]
  },
  {
   "cell_type": "markdown",
   "id": "fadf6c8a",
   "metadata": {},
   "source": [
    "defines a (hypothetical) fixture `fix-a` that sets values of `a` and `b` in the setup, and deletes them in the teardown (a more realistic use case might involve, say, connecting to a database (setup) and closing those connections (teardown)). Use the `with-fixture` macro to apply this fixture,"
   ]
  },
  {
   "cell_type": "code",
   "execution_count": 12,
   "id": "23117960",
   "metadata": {
    "ExecuteTime": {
     "end_time": "2021-11-25T06:30:32.376175Z",
     "start_time": "2021-11-25T06:30:32.207913Z"
    }
   },
   "outputs": [
    {
     "data": {
      "text/plain": [
       "<function test_add_fixvar at 0x7fe5d01317b8>"
      ]
     },
     "execution_count": 12,
     "metadata": {},
     "output_type": "execute_result"
    }
   ],
   "source": [
    "(deftest test-add-fixvar\n",
    "         (check\n",
    "          (= (+ a b) 2 \"Sum should be 2\")\n",
    "          (= (+ a b) 5 \"Sum should be 5\")))"
   ]
  },
  {
   "cell_type": "code",
   "execution_count": 13,
   "id": "55bcedfe",
   "metadata": {
    "ExecuteTime": {
     "end_time": "2021-11-25T06:30:32.453987Z",
     "start_time": "2021-11-25T06:30:32.378204Z"
    }
   },
   "outputs": [
    {
     "name": "stdout",
     "output_type": "stream",
     "text": [
      "2021-11-24 22:30:32.441 - INFO - Pass ✓... (test-add-fixvar): Sum should be 2\n",
      "2021-11-24 22:30:32.451 - ERROR - Fail ✗... (test-add-fixvar): Sum should be 5\n"
     ]
    },
    {
     "data": {
      "text/plain": [
       "(2, 1, 1)"
      ]
     },
     "execution_count": 13,
     "metadata": {},
     "output_type": "execute_result"
    }
   ],
   "source": [
    "(require [hyprovo.framework [with-fixture]])\n",
    "\n",
    "(▶ (with-fixture fix-a (▶ (test-add-fixvar))))"
   ]
  },
  {
   "cell_type": "markdown",
   "id": "f1fd1827",
   "metadata": {},
   "source": [
    "Of course the setup and teardown can have multiple statements,"
   ]
  },
  {
   "cell_type": "code",
   "execution_count": 14,
   "id": "c6239e7f",
   "metadata": {
    "ExecuteTime": {
     "end_time": "2021-11-25T06:30:32.488924Z",
     "start_time": "2021-11-25T06:30:32.456161Z"
    }
   },
   "outputs": [
    {
     "data": {
      "text/plain": [
       "<function fix_b at 0x7fe5d0131e18>"
      ]
     },
     "execution_count": 14,
     "metadata": {},
     "output_type": "execute_result"
    }
   ],
   "source": [
    "(deffixture fix-b ((setv a 0) (setv b 2)) ((del a) (del b)))"
   ]
  },
  {
   "cell_type": "code",
   "execution_count": 15,
   "id": "53082815",
   "metadata": {
    "ExecuteTime": {
     "end_time": "2021-11-25T06:30:32.571117Z",
     "start_time": "2021-11-25T06:30:32.491069Z"
    }
   },
   "outputs": [
    {
     "name": "stdout",
     "output_type": "stream",
     "text": [
      "2021-11-24 22:30:32.557 - INFO - Pass ✓... (test-add-fixvar): Sum should be 2\n",
      "2021-11-24 22:30:32.568 - ERROR - Fail ✗... (test-add-fixvar): Sum should be 5\n"
     ]
    },
    {
     "data": {
      "text/plain": [
       "(2, 1, 1)"
      ]
     },
     "execution_count": 15,
     "metadata": {},
     "output_type": "execute_result"
    }
   ],
   "source": [
    "(▶ (with-fixture fix-b (▶ (test-add-fixvar))))"
   ]
  },
  {
   "cell_type": "markdown",
   "id": "e3d2c55f",
   "metadata": {},
   "source": [
    "Multiple tests can be run using the same fixture,"
   ]
  },
  {
   "cell_type": "code",
   "execution_count": 16,
   "id": "1cc9a49f",
   "metadata": {
    "ExecuteTime": {
     "end_time": "2021-11-25T06:30:32.763270Z",
     "start_time": "2021-11-25T06:30:32.573476Z"
    }
   },
   "outputs": [
    {
     "data": {
      "text/plain": [
       "<function test_sub_fixvar at 0x7fe5c94016a8>"
      ]
     },
     "execution_count": 16,
     "metadata": {},
     "output_type": "execute_result"
    }
   ],
   "source": [
    "(deftest test-sub-fixvar\n",
    "         (check\n",
    "          (= (- a b) 0 \"Difference should be 0\")\n",
    "          (= (- a b) -1 \"Difference should be -1\")))"
   ]
  },
  {
   "cell_type": "code",
   "execution_count": 17,
   "id": "d0e53d31",
   "metadata": {
    "ExecuteTime": {
     "end_time": "2021-11-25T06:30:32.910937Z",
     "start_time": "2021-11-25T06:30:32.765704Z"
    }
   },
   "outputs": [
    {
     "name": "stdout",
     "output_type": "stream",
     "text": [
      "2021-11-24 22:30:32.859 - INFO - Pass ✓... (test-add-fixvar): Sum should be 2\n",
      "2021-11-24 22:30:32.868 - ERROR - Fail ✗... (test-add-fixvar): Sum should be 5\n",
      "2021-11-24 22:30:32.892 - INFO - Pass ✓... (test-sub-fixvar): Difference should be 0\n",
      "2021-11-24 22:30:32.907 - ERROR - Fail ✗... (test-sub-fixvar): Difference should be -1\n"
     ]
    },
    {
     "data": {
      "text/plain": [
       "(4, 2, 2)"
      ]
     },
     "execution_count": 17,
     "metadata": {},
     "output_type": "execute_result"
    }
   ],
   "source": [
    "(▶ (with-fixture fix-a (▶ (test-add-fixvar) (test-sub-fixvar))))"
   ]
  },
  {
   "cell_type": "markdown",
   "id": "2f39cf5e",
   "metadata": {},
   "source": [
    "Variable declarations inside the test body take precedence over those defined in the fixture, consistent with scoping rules (LEGB),"
   ]
  },
  {
   "cell_type": "code",
   "execution_count": 18,
   "id": "65884f6b",
   "metadata": {
    "ExecuteTime": {
     "end_time": "2021-11-25T06:30:32.987135Z",
     "start_time": "2021-11-25T06:30:32.913698Z"
    }
   },
   "outputs": [
    {
     "name": "stdout",
     "output_type": "stream",
     "text": [
      "2021-11-24 22:30:32.974 - INFO - Pass ✓... (test-add-var): Add pass\n",
      "2021-11-24 22:30:32.984 - ERROR - Fail ✗... (test-add-var): Add fail\n"
     ]
    },
    {
     "data": {
      "text/plain": [
       "(2, 1, 1)"
      ]
     },
     "execution_count": 18,
     "metadata": {},
     "output_type": "execute_result"
    }
   ],
   "source": [
    "(▶ (with-fixture fix-a (▶ (test-add-var))))"
   ]
  },
  {
   "cell_type": "markdown",
   "id": "69b48b33",
   "metadata": {},
   "source": [
    "Fixtures can be nested,"
   ]
  },
  {
   "cell_type": "code",
   "execution_count": 19,
   "id": "5b5b7c7c",
   "metadata": {
    "ExecuteTime": {
     "end_time": "2021-11-25T06:30:33.111449Z",
     "start_time": "2021-11-25T06:30:32.989291Z"
    }
   },
   "outputs": [
    {
     "name": "stdout",
     "output_type": "stream",
     "text": [
      "2021-11-24 22:30:33.099 - INFO - Pass ✓... (test-add-var): Add pass\n",
      "2021-11-24 22:30:33.108 - ERROR - Fail ✗... (test-add-var): Add fail\n"
     ]
    },
    {
     "data": {
      "text/plain": [
       "(2, 1, 1)"
      ]
     },
     "execution_count": 19,
     "metadata": {},
     "output_type": "execute_result"
    }
   ],
   "source": [
    "(deffixture fix-c ((setv a 1)) (None))\n",
    "(deffixture fix-d ((setv b 1)) (None))\n",
    "\n",
    "(▶ (with-fixture fix-c \n",
    "    (▶ (with-fixture fix-d \n",
    "        (▶ (test-add-var))))))"
   ]
  },
  {
   "cell_type": "markdown",
   "id": "b43b6fec",
   "metadata": {},
   "source": [
    "Use `with-fixtures` to run multiple tests with multiple fixtures,"
   ]
  },
  {
   "cell_type": "code",
   "execution_count": 20,
   "id": "de3e8382",
   "metadata": {
    "ExecuteTime": {
     "end_time": "2021-11-25T06:30:33.426881Z",
     "start_time": "2021-11-25T06:30:33.113829Z"
    }
   },
   "outputs": [
    {
     "name": "stdout",
     "output_type": "stream",
     "text": [
      "2021-11-24 22:30:33.309 - INFO - Pass ✓... (test-add-fixvar): Sum should be 2\n",
      "2021-11-24 22:30:33.320 - ERROR - Fail ✗... (test-add-fixvar): Sum should be 5\n",
      "2021-11-24 22:30:33.342 - INFO - Pass ✓... (test-sub-fixvar): Difference should be 0\n",
      "2021-11-24 22:30:33.355 - ERROR - Fail ✗... (test-sub-fixvar): Difference should be -1\n",
      "2021-11-24 22:30:33.378 - INFO - Pass ✓... (test-add-fixvar): Sum should be 2\n",
      "2021-11-24 22:30:33.390 - ERROR - Fail ✗... (test-add-fixvar): Sum should be 5\n",
      "2021-11-24 22:30:33.414 - ERROR - Fail ✗... (test-sub-fixvar): Difference should be 0\n",
      "2021-11-24 22:30:33.424 - ERROR - Fail ✗... (test-sub-fixvar): Difference should be -1\n"
     ]
    },
    {
     "data": {
      "text/plain": [
       "(8, 3, 5)"
      ]
     },
     "execution_count": 20,
     "metadata": {},
     "output_type": "execute_result"
    }
   ],
   "source": [
    "(require [hyprovo.framework [with-fixtures]])\n",
    "\n",
    "(▶ (with-fixtures [fix-a fix-b] (▶ (test-add-fixvar) (test-sub-fixvar))))"
   ]
  },
  {
   "cell_type": "markdown",
   "id": "2ae1271b",
   "metadata": {},
   "source": [
    "The first argument is a list of fixtures followed by the tests. All tests are run with each fixture in the list. \n",
    "\n",
    "Fixtures can be defined inside or outside tests."
   ]
  },
  {
   "cell_type": "markdown",
   "id": "3ba0a0a8",
   "metadata": {},
   "source": [
    "## Suites\n",
    "\n",
    "Suites are the recommended way to run tests, checks and fixtures since they automatically take care of setting up the test environment (`setup-test-env` is not required). There is typically one suite per module.\n",
    "\n",
    "The `defsuite` macro is used to define a suite,"
   ]
  },
  {
   "cell_type": "code",
   "execution_count": 21,
   "id": "aa34825b",
   "metadata": {
    "ExecuteTime": {
     "end_time": "2021-11-25T06:30:33.553037Z",
     "start_time": "2021-11-25T06:30:33.429200Z"
    }
   },
   "outputs": [],
   "source": [
    "(require [hyprovo.framework [defsuite]])\n",
    "\n",
    "(defsuite test-suite-arithmetic-1\n",
    "   (-> (combine-results (▶ (test-add) (test-sub)))\n",
    "       (report-combined-results)))"
   ]
  },
  {
   "cell_type": "markdown",
   "id": "826383e2",
   "metadata": {},
   "source": [
    "`defsuite` returns a function with the suite name that takes an optional `test-logger` argument (defaults to `hyprovo.logger.console-logger`). To run the suite,"
   ]
  },
  {
   "cell_type": "code",
   "execution_count": 22,
   "id": "11f1cc31",
   "metadata": {
    "ExecuteTime": {
     "end_time": "2021-11-25T06:30:33.627744Z",
     "start_time": "2021-11-25T06:30:33.554693Z"
    }
   },
   "outputs": [
    {
     "name": "stdout",
     "output_type": "stream",
     "text": [
      "2021-11-24 22:30:33.582 - INFO - Pass ✓... (test-suite-arithmetic-1 / test-add): Add pass\n",
      "2021-11-24 22:30:33.591 - ERROR - Fail ✗... (test-suite-arithmetic-1 / test-add): Add fail\n",
      "2021-11-24 22:30:33.611 - INFO - Pass ✓... (test-suite-arithmetic-1 / test-sub): Sub pass\n",
      "2021-11-24 22:30:33.624 - ERROR - Fail ✗... (test-suite-arithmetic-1 / test-sub): Sub fail\n",
      "2021-11-24 22:30:33.625 - DEBUG - (test-suite-arithmetic-1): Test Summary → Total: 4    Pass: 2    Fail: 2\n"
     ]
    },
    {
     "data": {
      "text/plain": [
       "(4, 2, 2)"
      ]
     },
     "execution_count": 22,
     "metadata": {},
     "output_type": "execute_result"
    }
   ],
   "source": [
    "(test-suite-arithmetic-1)"
   ]
  },
  {
   "cell_type": "markdown",
   "id": "568badd3",
   "metadata": {},
   "source": [
    "> The name of the suite is added to the path of the test name.\n",
    "\n",
    "Suites can be nested. To use the same logger across all suites provide the same `test-logger` argument,"
   ]
  },
  {
   "cell_type": "code",
   "execution_count": 23,
   "id": "a3eb7c1e",
   "metadata": {
    "ExecuteTime": {
     "end_time": "2021-11-25T06:30:33.739238Z",
     "start_time": "2021-11-25T06:30:33.632815Z"
    }
   },
   "outputs": [],
   "source": [
    "(defsuite test-suite-arithmetic-2\n",
    "   (-> (combine-results \n",
    "        (check\n",
    "          (= (* 1 2) 2 \"Mul pass\")\n",
    "          (= (* 1 2) -1 \"Mul fail\"))\n",
    "          (▶ (with-fixture fix-a (▶ (test-add-fixvar)))))\n",
    "       (report-combined-results)))"
   ]
  },
  {
   "cell_type": "code",
   "execution_count": 24,
   "id": "183f9352",
   "metadata": {
    "ExecuteTime": {
     "end_time": "2021-11-25T06:30:33.919774Z",
     "start_time": "2021-11-25T06:30:33.741237Z"
    }
   },
   "outputs": [
    {
     "name": "stdout",
     "output_type": "stream",
     "text": [
      "2021-11-24 22:30:33.802 - INFO - Pass ✓... (test-suite-arithmetic-1 / test-add): Add pass\n",
      "2021-11-24 22:30:33.810 - ERROR - Fail ✗... (test-suite-arithmetic-1 / test-add): Add fail\n",
      "2021-11-24 22:30:33.834 - INFO - Pass ✓... (test-suite-arithmetic-1 / test-sub): Sub pass\n",
      "2021-11-24 22:30:33.843 - ERROR - Fail ✗... (test-suite-arithmetic-1 / test-sub): Sub fail\n",
      "2021-11-24 22:30:33.844 - DEBUG - (test-suite-arithmetic-1): Test Summary → Total: 4    Pass: 2    Fail: 2\n",
      "2021-11-24 22:30:33.868 - INFO - Pass ✓... (test-suite-arithmetic-2): Mul pass\n",
      "2021-11-24 22:30:33.876 - ERROR - Fail ✗... (test-suite-arithmetic-2): Mul fail\n",
      "2021-11-24 22:30:33.904 - INFO - Pass ✓... (test-suite-arithmetic-2 / test-add-fixvar): Sum should be 2\n",
      "2021-11-24 22:30:33.914 - ERROR - Fail ✗... (test-suite-arithmetic-2 / test-add-fixvar): Sum should be 5\n",
      "2021-11-24 22:30:33.915 - DEBUG - (test-suite-arithmetic-2): Test Summary → Total: 4    Pass: 2    Fail: 2\n",
      "2021-11-24 22:30:33.916 - DEBUG - (test-suite-arithmetic): Test Summary → Total: 8    Pass: 4    Fail: 4\n"
     ]
    },
    {
     "data": {
      "text/plain": [
       "(8, 4, 4)"
      ]
     },
     "execution_count": 24,
     "metadata": {},
     "output_type": "execute_result"
    }
   ],
   "source": [
    "(defsuite test-suite-arithmetic\n",
    "    (-> (combine-results \n",
    "         (test-suite-arithmetic-1 :test-logger test-logger)\n",
    "         (test-suite-arithmetic-2 :test-logger test-logger))\n",
    "        (report-combined-results)))\n",
    "\n",
    "(test-suite-arithmetic :test-logger console-logger)"
   ]
  },
  {
   "cell_type": "markdown",
   "id": "63a5efd1",
   "metadata": {},
   "source": [
    "> For nested suites, the name of the outer suites are ***not*** added to the path of the test name."
   ]
  },
  {
   "cell_type": "markdown",
   "id": "79a35b73",
   "metadata": {},
   "source": [
    "## More Examples\n",
    "This section describes various utilities available for writing tests. For further examples see [cases.hy](https://github.com/prasxanth/hyprovo/blob/main/tests/cases.hy)."
   ]
  }
 ],
 "metadata": {
  "kernelspec": {
   "display_name": "Calysto Hy",
   "language": "hy",
   "name": "calysto_hy"
  },
  "language_info": {
   "codemirror_mode": {
    "name": "scheme"
   },
   "mimetype": "text/x-hylang",
   "name": "hy",
   "pygments_lexer": "lisp"
  },
  "toc": {
   "base_numbering": 1,
   "nav_menu": {},
   "number_sections": true,
   "sideBar": true,
   "skip_h1_title": true,
   "title_cell": "Table of Contents",
   "title_sidebar": "Contents",
   "toc_cell": false,
   "toc_position": {},
   "toc_section_display": true,
   "toc_window_display": true
  }
 },
 "nbformat": 4,
 "nbformat_minor": 5
}
